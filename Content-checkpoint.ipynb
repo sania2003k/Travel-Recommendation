{
 "cells": [
  {
   "cell_type": "markdown",
   "id": "25a8cb2c-839a-4366-b578-3f04b691bafb",
   "metadata": {},
   "source": [
    "Content Based"
   ]
  },
  {
   "cell_type": "code",
   "execution_count": 1,
   "id": "b30fc4ef",
   "metadata": {},
   "outputs": [],
   "source": [
    "import pandas as pd\n",
    "import io\n",
    "import time"
   ]
  },
  {
   "cell_type": "code",
   "execution_count": 2,
   "id": "10ae1b51",
   "metadata": {},
   "outputs": [
    {
     "data": {
      "text/html": [
       "<div>\n",
       "<style scoped>\n",
       "    .dataframe tbody tr th:only-of-type {\n",
       "        vertical-align: middle;\n",
       "    }\n",
       "\n",
       "    .dataframe tbody tr th {\n",
       "        vertical-align: top;\n",
       "    }\n",
       "\n",
       "    .dataframe thead th {\n",
       "        text-align: right;\n",
       "    }\n",
       "</style>\n",
       "<table border=\"1\" class=\"dataframe\">\n",
       "  <thead>\n",
       "    <tr style=\"text-align: right;\">\n",
       "      <th></th>\n",
       "      <th>c_id</th>\n",
       "      <th>city</th>\n",
       "      <th>country</th>\n",
       "      <th>overview</th>\n",
       "      <th>climate</th>\n",
       "      <th>keywords</th>\n",
       "      <th>travel_style</th>\n",
       "      <th>activities</th>\n",
       "    </tr>\n",
       "  </thead>\n",
       "  <tbody>\n",
       "    <tr>\n",
       "      <th>0</th>\n",
       "      <td>1</td>\n",
       "      <td>Paris</td>\n",
       "      <td>France</td>\n",
       "      <td>City of Light, romance, art, iconic landmarks.</td>\n",
       "      <td>Temperate, mild winters, warm summers</td>\n",
       "      <td>Romance, art, history, fashion</td>\n",
       "      <td>Romantic getaway, cultural exploration, luxury</td>\n",
       "      <td>Sightseeing, museums, cafes, shopping</td>\n",
       "    </tr>\n",
       "    <tr>\n",
       "      <th>1</th>\n",
       "      <td>2</td>\n",
       "      <td>London</td>\n",
       "      <td>United Kingdom</td>\n",
       "      <td>Historic charm, royal heritage, vibrant culture.</td>\n",
       "      <td>Temperate maritime, mild winters, cool summers</td>\n",
       "      <td>History, culture, parks, shopping</td>\n",
       "      <td>City break, cultural trip, family vacation</td>\n",
       "      <td>Museums, parks, shopping, sightseeing, theatre</td>\n",
       "    </tr>\n",
       "    <tr>\n",
       "      <th>2</th>\n",
       "      <td>3</td>\n",
       "      <td>Rome</td>\n",
       "      <td>Italy</td>\n",
       "      <td>Ancient history, stunning ruins, rich culture.</td>\n",
       "      <td>Mediterranean, hot summers, mild winters</td>\n",
       "      <td>History, culture, food, architecture</td>\n",
       "      <td>Cultural trip, romantic getaway, family vacation</td>\n",
       "      <td>Sightseeing, museums, historic ruins, food tours</td>\n",
       "    </tr>\n",
       "    <tr>\n",
       "      <th>3</th>\n",
       "      <td>4</td>\n",
       "      <td>New York City</td>\n",
       "      <td>United States</td>\n",
       "      <td>Bustling metropolis, iconic skyline, diverse c...</td>\n",
       "      <td>Temperate, four distinct seasons</td>\n",
       "      <td>Shopping, museums, entertainment</td>\n",
       "      <td>City break, family vacation, luxury travel</td>\n",
       "      <td>Shopping, sightseeing, Broadway shows, museums</td>\n",
       "    </tr>\n",
       "    <tr>\n",
       "      <th>4</th>\n",
       "      <td>5</td>\n",
       "      <td>Tokyo</td>\n",
       "      <td>Japan</td>\n",
       "      <td>Futuristic city, rich traditions, vibrant energy.</td>\n",
       "      <td>Humid subtropical, hot summers, mild winters</td>\n",
       "      <td>Technology, culture, food, shopping</td>\n",
       "      <td>City break, family vacation, tech enthusiasts</td>\n",
       "      <td>Shopping, temples, sushi, sightseeing, enterta...</td>\n",
       "    </tr>\n",
       "    <tr>\n",
       "      <th>...</th>\n",
       "      <td>...</td>\n",
       "      <td>...</td>\n",
       "      <td>...</td>\n",
       "      <td>...</td>\n",
       "      <td>...</td>\n",
       "      <td>...</td>\n",
       "      <td>...</td>\n",
       "      <td>...</td>\n",
       "    </tr>\n",
       "    <tr>\n",
       "      <th>298</th>\n",
       "      <td>301</td>\n",
       "      <td>Ljubljana</td>\n",
       "      <td>Slovenia</td>\n",
       "      <td>Slovenian city, charming old town, rich cultur...</td>\n",
       "      <td>Continental, cold winters, mild summers</td>\n",
       "      <td>History, culture, art, Slovenia</td>\n",
       "      <td>Cultural exploration, historical tours, city b...</td>\n",
       "      <td>Visiting museums, exploring old town, enjoying...</td>\n",
       "    </tr>\n",
       "    <tr>\n",
       "      <th>299</th>\n",
       "      <td>302</td>\n",
       "      <td>Madurai</td>\n",
       "      <td>India</td>\n",
       "      <td>Indian city, rich culture, historical landmark...</td>\n",
       "      <td>Tropical, warm year-round</td>\n",
       "      <td>Temples, culture, history, India</td>\n",
       "      <td>Cultural exploration, history tours, spiritual...</td>\n",
       "      <td>Visiting temples, exploring ancient cities, cu...</td>\n",
       "    </tr>\n",
       "    <tr>\n",
       "      <th>300</th>\n",
       "      <td>303</td>\n",
       "      <td>Malmo</td>\n",
       "      <td>Sweden</td>\n",
       "      <td>Swedish city, modern design, vibrant cultural ...</td>\n",
       "      <td>Oceanic, mild winters, warm summers</td>\n",
       "      <td>Urban life, culture, Sweden</td>\n",
       "      <td>Cultural exploration, city breaks, nature tourism</td>\n",
       "      <td>Exploring parks, visiting museums, walking tours</td>\n",
       "    </tr>\n",
       "    <tr>\n",
       "      <th>301</th>\n",
       "      <td>304</td>\n",
       "      <td>Meknes</td>\n",
       "      <td>Morocco</td>\n",
       "      <td>Moroccan city, historic landmarks, beautiful a...</td>\n",
       "      <td>Mediterranean, mild winters, hot summers</td>\n",
       "      <td>History, culture, Morocco, architecture</td>\n",
       "      <td>Cultural exploration, historical tours, nature...</td>\n",
       "      <td>Exploring ancient medinas, visiting historical...</td>\n",
       "    </tr>\n",
       "    <tr>\n",
       "      <th>302</th>\n",
       "      <td>305</td>\n",
       "      <td>Mombasa</td>\n",
       "      <td>Kenya</td>\n",
       "      <td>Kenyan coastal city, beaches, historical signi...</td>\n",
       "      <td>Tropical, warm year-round</td>\n",
       "      <td>Beaches, coastal life, culture, Kenya</td>\n",
       "      <td>Beach vacation, nature tourism, cultural explo...</td>\n",
       "      <td>Relaxing on beaches, wildlife safaris, cultura...</td>\n",
       "    </tr>\n",
       "  </tbody>\n",
       "</table>\n",
       "<p>303 rows × 8 columns</p>\n",
       "</div>"
      ],
      "text/plain": [
       "     c_id           city         country  \\\n",
       "0       1          Paris          France   \n",
       "1       2         London  United Kingdom   \n",
       "2       3           Rome           Italy   \n",
       "3       4  New York City   United States   \n",
       "4       5          Tokyo           Japan   \n",
       "..    ...            ...             ...   \n",
       "298   301      Ljubljana        Slovenia   \n",
       "299   302        Madurai           India   \n",
       "300   303          Malmo          Sweden   \n",
       "301   304         Meknes         Morocco   \n",
       "302   305        Mombasa           Kenya   \n",
       "\n",
       "                                              overview  \\\n",
       "0       City of Light, romance, art, iconic landmarks.   \n",
       "1     Historic charm, royal heritage, vibrant culture.   \n",
       "2       Ancient history, stunning ruins, rich culture.   \n",
       "3    Bustling metropolis, iconic skyline, diverse c...   \n",
       "4    Futuristic city, rich traditions, vibrant energy.   \n",
       "..                                                 ...   \n",
       "298  Slovenian city, charming old town, rich cultur...   \n",
       "299  Indian city, rich culture, historical landmark...   \n",
       "300  Swedish city, modern design, vibrant cultural ...   \n",
       "301  Moroccan city, historic landmarks, beautiful a...   \n",
       "302  Kenyan coastal city, beaches, historical signi...   \n",
       "\n",
       "                                            climate  \\\n",
       "0             Temperate, mild winters, warm summers   \n",
       "1    Temperate maritime, mild winters, cool summers   \n",
       "2          Mediterranean, hot summers, mild winters   \n",
       "3                  Temperate, four distinct seasons   \n",
       "4      Humid subtropical, hot summers, mild winters   \n",
       "..                                              ...   \n",
       "298         Continental, cold winters, mild summers   \n",
       "299                       Tropical, warm year-round   \n",
       "300             Oceanic, mild winters, warm summers   \n",
       "301        Mediterranean, mild winters, hot summers   \n",
       "302                       Tropical, warm year-round   \n",
       "\n",
       "                                    keywords  \\\n",
       "0             Romance, art, history, fashion   \n",
       "1          History, culture, parks, shopping   \n",
       "2       History, culture, food, architecture   \n",
       "3           Shopping, museums, entertainment   \n",
       "4        Technology, culture, food, shopping   \n",
       "..                                       ...   \n",
       "298          History, culture, art, Slovenia   \n",
       "299         Temples, culture, history, India   \n",
       "300              Urban life, culture, Sweden   \n",
       "301  History, culture, Morocco, architecture   \n",
       "302    Beaches, coastal life, culture, Kenya   \n",
       "\n",
       "                                          travel_style  \\\n",
       "0       Romantic getaway, cultural exploration, luxury   \n",
       "1           City break, cultural trip, family vacation   \n",
       "2     Cultural trip, romantic getaway, family vacation   \n",
       "3           City break, family vacation, luxury travel   \n",
       "4        City break, family vacation, tech enthusiasts   \n",
       "..                                                 ...   \n",
       "298  Cultural exploration, historical tours, city b...   \n",
       "299  Cultural exploration, history tours, spiritual...   \n",
       "300  Cultural exploration, city breaks, nature tourism   \n",
       "301  Cultural exploration, historical tours, nature...   \n",
       "302  Beach vacation, nature tourism, cultural explo...   \n",
       "\n",
       "                                            activities  \n",
       "0                Sightseeing, museums, cafes, shopping  \n",
       "1       Museums, parks, shopping, sightseeing, theatre  \n",
       "2     Sightseeing, museums, historic ruins, food tours  \n",
       "3       Shopping, sightseeing, Broadway shows, museums  \n",
       "4    Shopping, temples, sushi, sightseeing, enterta...  \n",
       "..                                                 ...  \n",
       "298  Visiting museums, exploring old town, enjoying...  \n",
       "299  Visiting temples, exploring ancient cities, cu...  \n",
       "300   Exploring parks, visiting museums, walking tours  \n",
       "301  Exploring ancient medinas, visiting historical...  \n",
       "302  Relaxing on beaches, wildlife safaris, cultura...  \n",
       "\n",
       "[303 rows x 8 columns]"
      ]
     },
     "execution_count": 2,
     "metadata": {},
     "output_type": "execute_result"
    }
   ],
   "source": [
    "df = pd.read_excel('Data/Content.xlsx')\n",
    "df"
   ]
  },
  {
   "cell_type": "code",
   "execution_count": 3,
   "id": "9c3450fd",
   "metadata": {},
   "outputs": [
    {
     "data": {
      "text/html": [
       "<div>\n",
       "<style scoped>\n",
       "    .dataframe tbody tr th:only-of-type {\n",
       "        vertical-align: middle;\n",
       "    }\n",
       "\n",
       "    .dataframe tbody tr th {\n",
       "        vertical-align: top;\n",
       "    }\n",
       "\n",
       "    .dataframe thead th {\n",
       "        text-align: right;\n",
       "    }\n",
       "</style>\n",
       "<table border=\"1\" class=\"dataframe\">\n",
       "  <thead>\n",
       "    <tr style=\"text-align: right;\">\n",
       "      <th></th>\n",
       "      <th>c_id</th>\n",
       "      <th>city</th>\n",
       "      <th>country</th>\n",
       "      <th>overview</th>\n",
       "      <th>climate</th>\n",
       "      <th>keywords</th>\n",
       "      <th>travel_style</th>\n",
       "      <th>activities</th>\n",
       "    </tr>\n",
       "  </thead>\n",
       "  <tbody>\n",
       "    <tr>\n",
       "      <th>0</th>\n",
       "      <td>1</td>\n",
       "      <td>Paris</td>\n",
       "      <td>France</td>\n",
       "      <td>City of Light, romance, art, iconic landmarks.</td>\n",
       "      <td>Temperate, mild winters, warm summers</td>\n",
       "      <td>Romance, art, history, fashion</td>\n",
       "      <td>Romantic getaway, cultural exploration, luxury</td>\n",
       "      <td>Sightseeing, museums, cafes, shopping</td>\n",
       "    </tr>\n",
       "    <tr>\n",
       "      <th>1</th>\n",
       "      <td>2</td>\n",
       "      <td>London</td>\n",
       "      <td>United Kingdom</td>\n",
       "      <td>Historic charm, royal heritage, vibrant culture.</td>\n",
       "      <td>Temperate maritime, mild winters, cool summers</td>\n",
       "      <td>History, culture, parks, shopping</td>\n",
       "      <td>City break, cultural trip, family vacation</td>\n",
       "      <td>Museums, parks, shopping, sightseeing, theatre</td>\n",
       "    </tr>\n",
       "  </tbody>\n",
       "</table>\n",
       "</div>"
      ],
      "text/plain": [
       "   c_id    city         country  \\\n",
       "0     1   Paris          France   \n",
       "1     2  London  United Kingdom   \n",
       "\n",
       "                                           overview  \\\n",
       "0    City of Light, romance, art, iconic landmarks.   \n",
       "1  Historic charm, royal heritage, vibrant culture.   \n",
       "\n",
       "                                          climate  \\\n",
       "0           Temperate, mild winters, warm summers   \n",
       "1  Temperate maritime, mild winters, cool summers   \n",
       "\n",
       "                            keywords  \\\n",
       "0     Romance, art, history, fashion   \n",
       "1  History, culture, parks, shopping   \n",
       "\n",
       "                                     travel_style  \\\n",
       "0  Romantic getaway, cultural exploration, luxury   \n",
       "1      City break, cultural trip, family vacation   \n",
       "\n",
       "                                       activities  \n",
       "0           Sightseeing, museums, cafes, shopping  \n",
       "1  Museums, parks, shopping, sightseeing, theatre  "
      ]
     },
     "execution_count": 3,
     "metadata": {},
     "output_type": "execute_result"
    }
   ],
   "source": [
    "df.head(2)"
   ]
  },
  {
   "cell_type": "code",
   "execution_count": 4,
   "id": "e203e2b9",
   "metadata": {},
   "outputs": [
    {
     "data": {
      "text/plain": [
       "'City of Light, romance, art, iconic landmarks.'"
      ]
     },
     "execution_count": 4,
     "metadata": {},
     "output_type": "execute_result"
    }
   ],
   "source": [
    "df.iloc[0]['overview']"
   ]
  },
  {
   "cell_type": "code",
   "execution_count": 5,
   "id": "89fd277d",
   "metadata": {},
   "outputs": [],
   "source": [
    "df['overview'] = df['overview'].apply(lambda x:x.split())"
   ]
  },
  {
   "cell_type": "code",
   "execution_count": 6,
   "id": "96dfe4a7",
   "metadata": {},
   "outputs": [
    {
     "data": {
      "text/html": [
       "<div>\n",
       "<style scoped>\n",
       "    .dataframe tbody tr th:only-of-type {\n",
       "        vertical-align: middle;\n",
       "    }\n",
       "\n",
       "    .dataframe tbody tr th {\n",
       "        vertical-align: top;\n",
       "    }\n",
       "\n",
       "    .dataframe thead th {\n",
       "        text-align: right;\n",
       "    }\n",
       "</style>\n",
       "<table border=\"1\" class=\"dataframe\">\n",
       "  <thead>\n",
       "    <tr style=\"text-align: right;\">\n",
       "      <th></th>\n",
       "      <th>c_id</th>\n",
       "      <th>city</th>\n",
       "      <th>country</th>\n",
       "      <th>overview</th>\n",
       "      <th>climate</th>\n",
       "      <th>keywords</th>\n",
       "      <th>travel_style</th>\n",
       "      <th>activities</th>\n",
       "    </tr>\n",
       "  </thead>\n",
       "  <tbody>\n",
       "    <tr>\n",
       "      <th>0</th>\n",
       "      <td>1</td>\n",
       "      <td>Paris</td>\n",
       "      <td>France</td>\n",
       "      <td>[City, of, Light,, romance,, art,, iconic, lan...</td>\n",
       "      <td>Temperate, mild winters, warm summers</td>\n",
       "      <td>Romance, art, history, fashion</td>\n",
       "      <td>Romantic getaway, cultural exploration, luxury</td>\n",
       "      <td>Sightseeing, museums, cafes, shopping</td>\n",
       "    </tr>\n",
       "    <tr>\n",
       "      <th>1</th>\n",
       "      <td>2</td>\n",
       "      <td>London</td>\n",
       "      <td>United Kingdom</td>\n",
       "      <td>[Historic, charm,, royal, heritage,, vibrant, ...</td>\n",
       "      <td>Temperate maritime, mild winters, cool summers</td>\n",
       "      <td>History, culture, parks, shopping</td>\n",
       "      <td>City break, cultural trip, family vacation</td>\n",
       "      <td>Museums, parks, shopping, sightseeing, theatre</td>\n",
       "    </tr>\n",
       "    <tr>\n",
       "      <th>2</th>\n",
       "      <td>3</td>\n",
       "      <td>Rome</td>\n",
       "      <td>Italy</td>\n",
       "      <td>[Ancient, history,, stunning, ruins,, rich, cu...</td>\n",
       "      <td>Mediterranean, hot summers, mild winters</td>\n",
       "      <td>History, culture, food, architecture</td>\n",
       "      <td>Cultural trip, romantic getaway, family vacation</td>\n",
       "      <td>Sightseeing, museums, historic ruins, food tours</td>\n",
       "    </tr>\n",
       "    <tr>\n",
       "      <th>3</th>\n",
       "      <td>4</td>\n",
       "      <td>New York City</td>\n",
       "      <td>United States</td>\n",
       "      <td>[Bustling, metropolis,, iconic, skyline,, dive...</td>\n",
       "      <td>Temperate, four distinct seasons</td>\n",
       "      <td>Shopping, museums, entertainment</td>\n",
       "      <td>City break, family vacation, luxury travel</td>\n",
       "      <td>Shopping, sightseeing, Broadway shows, museums</td>\n",
       "    </tr>\n",
       "    <tr>\n",
       "      <th>4</th>\n",
       "      <td>5</td>\n",
       "      <td>Tokyo</td>\n",
       "      <td>Japan</td>\n",
       "      <td>[Futuristic, city,, rich, traditions,, vibrant...</td>\n",
       "      <td>Humid subtropical, hot summers, mild winters</td>\n",
       "      <td>Technology, culture, food, shopping</td>\n",
       "      <td>City break, family vacation, tech enthusiasts</td>\n",
       "      <td>Shopping, temples, sushi, sightseeing, enterta...</td>\n",
       "    </tr>\n",
       "  </tbody>\n",
       "</table>\n",
       "</div>"
      ],
      "text/plain": [
       "   c_id           city         country  \\\n",
       "0     1          Paris          France   \n",
       "1     2         London  United Kingdom   \n",
       "2     3           Rome           Italy   \n",
       "3     4  New York City   United States   \n",
       "4     5          Tokyo           Japan   \n",
       "\n",
       "                                            overview  \\\n",
       "0  [City, of, Light,, romance,, art,, iconic, lan...   \n",
       "1  [Historic, charm,, royal, heritage,, vibrant, ...   \n",
       "2  [Ancient, history,, stunning, ruins,, rich, cu...   \n",
       "3  [Bustling, metropolis,, iconic, skyline,, dive...   \n",
       "4  [Futuristic, city,, rich, traditions,, vibrant...   \n",
       "\n",
       "                                          climate  \\\n",
       "0           Temperate, mild winters, warm summers   \n",
       "1  Temperate maritime, mild winters, cool summers   \n",
       "2        Mediterranean, hot summers, mild winters   \n",
       "3                Temperate, four distinct seasons   \n",
       "4    Humid subtropical, hot summers, mild winters   \n",
       "\n",
       "                               keywords  \\\n",
       "0        Romance, art, history, fashion   \n",
       "1     History, culture, parks, shopping   \n",
       "2  History, culture, food, architecture   \n",
       "3      Shopping, museums, entertainment   \n",
       "4   Technology, culture, food, shopping   \n",
       "\n",
       "                                       travel_style  \\\n",
       "0    Romantic getaway, cultural exploration, luxury   \n",
       "1        City break, cultural trip, family vacation   \n",
       "2  Cultural trip, romantic getaway, family vacation   \n",
       "3        City break, family vacation, luxury travel   \n",
       "4     City break, family vacation, tech enthusiasts   \n",
       "\n",
       "                                          activities  \n",
       "0              Sightseeing, museums, cafes, shopping  \n",
       "1     Museums, parks, shopping, sightseeing, theatre  \n",
       "2   Sightseeing, museums, historic ruins, food tours  \n",
       "3     Shopping, sightseeing, Broadway shows, museums  \n",
       "4  Shopping, temples, sushi, sightseeing, enterta...  "
      ]
     },
     "execution_count": 6,
     "metadata": {},
     "output_type": "execute_result"
    }
   ],
   "source": [
    "df.head()"
   ]
  },
  {
   "cell_type": "code",
   "execution_count": 7,
   "id": "03079487",
   "metadata": {},
   "outputs": [
    {
     "data": {
      "text/plain": [
       "['City', 'of', 'Light,', 'romance,', 'art,', 'iconic', 'landmarks.']"
      ]
     },
     "execution_count": 7,
     "metadata": {},
     "output_type": "execute_result"
    }
   ],
   "source": [
    "df.iloc[0]['overview']"
   ]
  },
  {
   "cell_type": "code",
   "execution_count": 8,
   "id": "2818aa58",
   "metadata": {},
   "outputs": [
    {
     "data": {
      "text/html": [
       "<div>\n",
       "<style scoped>\n",
       "    .dataframe tbody tr th:only-of-type {\n",
       "        vertical-align: middle;\n",
       "    }\n",
       "\n",
       "    .dataframe tbody tr th {\n",
       "        vertical-align: top;\n",
       "    }\n",
       "\n",
       "    .dataframe thead th {\n",
       "        text-align: right;\n",
       "    }\n",
       "</style>\n",
       "<table border=\"1\" class=\"dataframe\">\n",
       "  <thead>\n",
       "    <tr style=\"text-align: right;\">\n",
       "      <th></th>\n",
       "      <th>c_id</th>\n",
       "      <th>city</th>\n",
       "      <th>country</th>\n",
       "      <th>overview</th>\n",
       "      <th>climate</th>\n",
       "      <th>keywords</th>\n",
       "      <th>travel_style</th>\n",
       "      <th>activities</th>\n",
       "    </tr>\n",
       "  </thead>\n",
       "  <tbody>\n",
       "    <tr>\n",
       "      <th>0</th>\n",
       "      <td>1</td>\n",
       "      <td>Paris</td>\n",
       "      <td>France</td>\n",
       "      <td>[City, of, Light,, romance,, art,, iconic, lan...</td>\n",
       "      <td>Temperate, mild winters, warm summers</td>\n",
       "      <td>Romance, art, history, fashion</td>\n",
       "      <td>Romantic getaway, cultural exploration, luxury</td>\n",
       "      <td>Sightseeing, museums, cafes, shopping</td>\n",
       "    </tr>\n",
       "    <tr>\n",
       "      <th>1</th>\n",
       "      <td>2</td>\n",
       "      <td>London</td>\n",
       "      <td>United Kingdom</td>\n",
       "      <td>[Historic, charm,, royal, heritage,, vibrant, ...</td>\n",
       "      <td>Temperate maritime, mild winters, cool summers</td>\n",
       "      <td>History, culture, parks, shopping</td>\n",
       "      <td>City break, cultural trip, family vacation</td>\n",
       "      <td>Museums, parks, shopping, sightseeing, theatre</td>\n",
       "    </tr>\n",
       "    <tr>\n",
       "      <th>2</th>\n",
       "      <td>3</td>\n",
       "      <td>Rome</td>\n",
       "      <td>Italy</td>\n",
       "      <td>[Ancient, history,, stunning, ruins,, rich, cu...</td>\n",
       "      <td>Mediterranean, hot summers, mild winters</td>\n",
       "      <td>History, culture, food, architecture</td>\n",
       "      <td>Cultural trip, romantic getaway, family vacation</td>\n",
       "      <td>Sightseeing, museums, historic ruins, food tours</td>\n",
       "    </tr>\n",
       "    <tr>\n",
       "      <th>3</th>\n",
       "      <td>4</td>\n",
       "      <td>New York City</td>\n",
       "      <td>United States</td>\n",
       "      <td>[Bustling, metropolis,, iconic, skyline,, dive...</td>\n",
       "      <td>Temperate, four distinct seasons</td>\n",
       "      <td>Shopping, museums, entertainment</td>\n",
       "      <td>City break, family vacation, luxury travel</td>\n",
       "      <td>Shopping, sightseeing, Broadway shows, museums</td>\n",
       "    </tr>\n",
       "    <tr>\n",
       "      <th>4</th>\n",
       "      <td>5</td>\n",
       "      <td>Tokyo</td>\n",
       "      <td>Japan</td>\n",
       "      <td>[Futuristic, city,, rich, traditions,, vibrant...</td>\n",
       "      <td>Humid subtropical, hot summers, mild winters</td>\n",
       "      <td>Technology, culture, food, shopping</td>\n",
       "      <td>City break, family vacation, tech enthusiasts</td>\n",
       "      <td>Shopping, temples, sushi, sightseeing, enterta...</td>\n",
       "    </tr>\n",
       "    <tr>\n",
       "      <th>...</th>\n",
       "      <td>...</td>\n",
       "      <td>...</td>\n",
       "      <td>...</td>\n",
       "      <td>...</td>\n",
       "      <td>...</td>\n",
       "      <td>...</td>\n",
       "      <td>...</td>\n",
       "      <td>...</td>\n",
       "    </tr>\n",
       "    <tr>\n",
       "      <th>298</th>\n",
       "      <td>301</td>\n",
       "      <td>Ljubljana</td>\n",
       "      <td>Slovenia</td>\n",
       "      <td>[Slovenian, city,, charming, old, town,, rich,...</td>\n",
       "      <td>Continental, cold winters, mild summers</td>\n",
       "      <td>History, culture, art, Slovenia</td>\n",
       "      <td>Cultural exploration, historical tours, city b...</td>\n",
       "      <td>Visiting museums, exploring old town, enjoying...</td>\n",
       "    </tr>\n",
       "    <tr>\n",
       "      <th>299</th>\n",
       "      <td>302</td>\n",
       "      <td>Madurai</td>\n",
       "      <td>India</td>\n",
       "      <td>[Indian, city,, rich, culture,, historical, la...</td>\n",
       "      <td>Tropical, warm year-round</td>\n",
       "      <td>Temples, culture, history, India</td>\n",
       "      <td>Cultural exploration, history tours, spiritual...</td>\n",
       "      <td>Visiting temples, exploring ancient cities, cu...</td>\n",
       "    </tr>\n",
       "    <tr>\n",
       "      <th>300</th>\n",
       "      <td>303</td>\n",
       "      <td>Malmo</td>\n",
       "      <td>Sweden</td>\n",
       "      <td>[Swedish, city,, modern, design,, vibrant, cul...</td>\n",
       "      <td>Oceanic, mild winters, warm summers</td>\n",
       "      <td>Urban life, culture, Sweden</td>\n",
       "      <td>Cultural exploration, city breaks, nature tourism</td>\n",
       "      <td>Exploring parks, visiting museums, walking tours</td>\n",
       "    </tr>\n",
       "    <tr>\n",
       "      <th>301</th>\n",
       "      <td>304</td>\n",
       "      <td>Meknes</td>\n",
       "      <td>Morocco</td>\n",
       "      <td>[Moroccan, city,, historic, landmarks,, beauti...</td>\n",
       "      <td>Mediterranean, mild winters, hot summers</td>\n",
       "      <td>History, culture, Morocco, architecture</td>\n",
       "      <td>Cultural exploration, historical tours, nature...</td>\n",
       "      <td>Exploring ancient medinas, visiting historical...</td>\n",
       "    </tr>\n",
       "    <tr>\n",
       "      <th>302</th>\n",
       "      <td>305</td>\n",
       "      <td>Mombasa</td>\n",
       "      <td>Kenya</td>\n",
       "      <td>[Kenyan, coastal, city,, beaches,, historical,...</td>\n",
       "      <td>Tropical, warm year-round</td>\n",
       "      <td>Beaches, coastal life, culture, Kenya</td>\n",
       "      <td>Beach vacation, nature tourism, cultural explo...</td>\n",
       "      <td>Relaxing on beaches, wildlife safaris, cultura...</td>\n",
       "    </tr>\n",
       "  </tbody>\n",
       "</table>\n",
       "<p>303 rows × 8 columns</p>\n",
       "</div>"
      ],
      "text/plain": [
       "     c_id           city         country  \\\n",
       "0       1          Paris          France   \n",
       "1       2         London  United Kingdom   \n",
       "2       3           Rome           Italy   \n",
       "3       4  New York City   United States   \n",
       "4       5          Tokyo           Japan   \n",
       "..    ...            ...             ...   \n",
       "298   301      Ljubljana        Slovenia   \n",
       "299   302        Madurai           India   \n",
       "300   303          Malmo          Sweden   \n",
       "301   304         Meknes         Morocco   \n",
       "302   305        Mombasa           Kenya   \n",
       "\n",
       "                                              overview  \\\n",
       "0    [City, of, Light,, romance,, art,, iconic, lan...   \n",
       "1    [Historic, charm,, royal, heritage,, vibrant, ...   \n",
       "2    [Ancient, history,, stunning, ruins,, rich, cu...   \n",
       "3    [Bustling, metropolis,, iconic, skyline,, dive...   \n",
       "4    [Futuristic, city,, rich, traditions,, vibrant...   \n",
       "..                                                 ...   \n",
       "298  [Slovenian, city,, charming, old, town,, rich,...   \n",
       "299  [Indian, city,, rich, culture,, historical, la...   \n",
       "300  [Swedish, city,, modern, design,, vibrant, cul...   \n",
       "301  [Moroccan, city,, historic, landmarks,, beauti...   \n",
       "302  [Kenyan, coastal, city,, beaches,, historical,...   \n",
       "\n",
       "                                            climate  \\\n",
       "0             Temperate, mild winters, warm summers   \n",
       "1    Temperate maritime, mild winters, cool summers   \n",
       "2          Mediterranean, hot summers, mild winters   \n",
       "3                  Temperate, four distinct seasons   \n",
       "4      Humid subtropical, hot summers, mild winters   \n",
       "..                                              ...   \n",
       "298         Continental, cold winters, mild summers   \n",
       "299                       Tropical, warm year-round   \n",
       "300             Oceanic, mild winters, warm summers   \n",
       "301        Mediterranean, mild winters, hot summers   \n",
       "302                       Tropical, warm year-round   \n",
       "\n",
       "                                    keywords  \\\n",
       "0             Romance, art, history, fashion   \n",
       "1          History, culture, parks, shopping   \n",
       "2       History, culture, food, architecture   \n",
       "3           Shopping, museums, entertainment   \n",
       "4        Technology, culture, food, shopping   \n",
       "..                                       ...   \n",
       "298          History, culture, art, Slovenia   \n",
       "299         Temples, culture, history, India   \n",
       "300              Urban life, culture, Sweden   \n",
       "301  History, culture, Morocco, architecture   \n",
       "302    Beaches, coastal life, culture, Kenya   \n",
       "\n",
       "                                          travel_style  \\\n",
       "0       Romantic getaway, cultural exploration, luxury   \n",
       "1           City break, cultural trip, family vacation   \n",
       "2     Cultural trip, romantic getaway, family vacation   \n",
       "3           City break, family vacation, luxury travel   \n",
       "4        City break, family vacation, tech enthusiasts   \n",
       "..                                                 ...   \n",
       "298  Cultural exploration, historical tours, city b...   \n",
       "299  Cultural exploration, history tours, spiritual...   \n",
       "300  Cultural exploration, city breaks, nature tourism   \n",
       "301  Cultural exploration, historical tours, nature...   \n",
       "302  Beach vacation, nature tourism, cultural explo...   \n",
       "\n",
       "                                            activities  \n",
       "0                Sightseeing, museums, cafes, shopping  \n",
       "1       Museums, parks, shopping, sightseeing, theatre  \n",
       "2     Sightseeing, museums, historic ruins, food tours  \n",
       "3       Shopping, sightseeing, Broadway shows, museums  \n",
       "4    Shopping, temples, sushi, sightseeing, enterta...  \n",
       "..                                                 ...  \n",
       "298  Visiting museums, exploring old town, enjoying...  \n",
       "299  Visiting temples, exploring ancient cities, cu...  \n",
       "300   Exploring parks, visiting museums, walking tours  \n",
       "301  Exploring ancient medinas, visiting historical...  \n",
       "302  Relaxing on beaches, wildlife safaris, cultura...  \n",
       "\n",
       "[303 rows x 8 columns]"
      ]
     },
     "execution_count": 8,
     "metadata": {},
     "output_type": "execute_result"
    }
   ],
   "source": [
    "df"
   ]
  },
  {
   "cell_type": "code",
   "execution_count": 9,
   "id": "d29ff500",
   "metadata": {},
   "outputs": [],
   "source": [
    "for col in [\"climate\",\"keywords\",\"travel_style\", \"activities\"]:\n",
    "    df[col] = df[col].str.replace(\" \", \"\").str.split(\",\")"
   ]
  },
  {
   "cell_type": "code",
   "execution_count": 10,
   "id": "8e3ddd1f",
   "metadata": {},
   "outputs": [
    {
     "data": {
      "text/html": [
       "<div>\n",
       "<style scoped>\n",
       "    .dataframe tbody tr th:only-of-type {\n",
       "        vertical-align: middle;\n",
       "    }\n",
       "\n",
       "    .dataframe tbody tr th {\n",
       "        vertical-align: top;\n",
       "    }\n",
       "\n",
       "    .dataframe thead th {\n",
       "        text-align: right;\n",
       "    }\n",
       "</style>\n",
       "<table border=\"1\" class=\"dataframe\">\n",
       "  <thead>\n",
       "    <tr style=\"text-align: right;\">\n",
       "      <th></th>\n",
       "      <th>c_id</th>\n",
       "      <th>city</th>\n",
       "      <th>country</th>\n",
       "      <th>overview</th>\n",
       "      <th>climate</th>\n",
       "      <th>keywords</th>\n",
       "      <th>travel_style</th>\n",
       "      <th>activities</th>\n",
       "    </tr>\n",
       "  </thead>\n",
       "  <tbody>\n",
       "    <tr>\n",
       "      <th>0</th>\n",
       "      <td>1</td>\n",
       "      <td>Paris</td>\n",
       "      <td>France</td>\n",
       "      <td>[City, of, Light,, romance,, art,, iconic, lan...</td>\n",
       "      <td>[Temperate, mildwinters, warmsummers]</td>\n",
       "      <td>[Romance, art, history, fashion]</td>\n",
       "      <td>[Romanticgetaway, culturalexploration, luxury]</td>\n",
       "      <td>[Sightseeing, museums, cafes, shopping]</td>\n",
       "    </tr>\n",
       "    <tr>\n",
       "      <th>1</th>\n",
       "      <td>2</td>\n",
       "      <td>London</td>\n",
       "      <td>United Kingdom</td>\n",
       "      <td>[Historic, charm,, royal, heritage,, vibrant, ...</td>\n",
       "      <td>[Temperatemaritime, mildwinters, coolsummers]</td>\n",
       "      <td>[History, culture, parks, shopping]</td>\n",
       "      <td>[Citybreak, culturaltrip, familyvacation]</td>\n",
       "      <td>[Museums, parks, shopping, sightseeing, theatre]</td>\n",
       "    </tr>\n",
       "  </tbody>\n",
       "</table>\n",
       "</div>"
      ],
      "text/plain": [
       "   c_id    city         country  \\\n",
       "0     1   Paris          France   \n",
       "1     2  London  United Kingdom   \n",
       "\n",
       "                                            overview  \\\n",
       "0  [City, of, Light,, romance,, art,, iconic, lan...   \n",
       "1  [Historic, charm,, royal, heritage,, vibrant, ...   \n",
       "\n",
       "                                         climate  \\\n",
       "0          [Temperate, mildwinters, warmsummers]   \n",
       "1  [Temperatemaritime, mildwinters, coolsummers]   \n",
       "\n",
       "                              keywords  \\\n",
       "0     [Romance, art, history, fashion]   \n",
       "1  [History, culture, parks, shopping]   \n",
       "\n",
       "                                     travel_style  \\\n",
       "0  [Romanticgetaway, culturalexploration, luxury]   \n",
       "1       [Citybreak, culturaltrip, familyvacation]   \n",
       "\n",
       "                                         activities  \n",
       "0           [Sightseeing, museums, cafes, shopping]  \n",
       "1  [Museums, parks, shopping, sightseeing, theatre]  "
      ]
     },
     "execution_count": 10,
     "metadata": {},
     "output_type": "execute_result"
    }
   ],
   "source": [
    "df.head(2)"
   ]
  },
  {
   "cell_type": "code",
   "execution_count": 11,
   "id": "36e59caa",
   "metadata": {},
   "outputs": [
    {
     "data": {
      "text/html": [
       "<div>\n",
       "<style scoped>\n",
       "    .dataframe tbody tr th:only-of-type {\n",
       "        vertical-align: middle;\n",
       "    }\n",
       "\n",
       "    .dataframe tbody tr th {\n",
       "        vertical-align: top;\n",
       "    }\n",
       "\n",
       "    .dataframe thead th {\n",
       "        text-align: right;\n",
       "    }\n",
       "</style>\n",
       "<table border=\"1\" class=\"dataframe\">\n",
       "  <thead>\n",
       "    <tr style=\"text-align: right;\">\n",
       "      <th></th>\n",
       "      <th>c_id</th>\n",
       "      <th>city</th>\n",
       "      <th>country</th>\n",
       "      <th>overview</th>\n",
       "      <th>climate</th>\n",
       "      <th>keywords</th>\n",
       "      <th>travel_style</th>\n",
       "      <th>activities</th>\n",
       "      <th>tags</th>\n",
       "    </tr>\n",
       "  </thead>\n",
       "  <tbody>\n",
       "    <tr>\n",
       "      <th>0</th>\n",
       "      <td>1</td>\n",
       "      <td>Paris</td>\n",
       "      <td>France</td>\n",
       "      <td>[City, of, Light,, romance,, art,, iconic, lan...</td>\n",
       "      <td>[Temperate, mildwinters, warmsummers]</td>\n",
       "      <td>[Romance, art, history, fashion]</td>\n",
       "      <td>[Romanticgetaway, culturalexploration, luxury]</td>\n",
       "      <td>[Sightseeing, museums, cafes, shopping]</td>\n",
       "      <td>[City, of, Light,, romance,, art,, iconic, lan...</td>\n",
       "    </tr>\n",
       "    <tr>\n",
       "      <th>1</th>\n",
       "      <td>2</td>\n",
       "      <td>London</td>\n",
       "      <td>United Kingdom</td>\n",
       "      <td>[Historic, charm,, royal, heritage,, vibrant, ...</td>\n",
       "      <td>[Temperatemaritime, mildwinters, coolsummers]</td>\n",
       "      <td>[History, culture, parks, shopping]</td>\n",
       "      <td>[Citybreak, culturaltrip, familyvacation]</td>\n",
       "      <td>[Museums, parks, shopping, sightseeing, theatre]</td>\n",
       "      <td>[Historic, charm,, royal, heritage,, vibrant, ...</td>\n",
       "    </tr>\n",
       "    <tr>\n",
       "      <th>2</th>\n",
       "      <td>3</td>\n",
       "      <td>Rome</td>\n",
       "      <td>Italy</td>\n",
       "      <td>[Ancient, history,, stunning, ruins,, rich, cu...</td>\n",
       "      <td>[Mediterranean, hotsummers, mildwinters]</td>\n",
       "      <td>[History, culture, food, architecture]</td>\n",
       "      <td>[Culturaltrip, romanticgetaway, familyvacation]</td>\n",
       "      <td>[Sightseeing, museums, historicruins, foodtours]</td>\n",
       "      <td>[Ancient, history,, stunning, ruins,, rich, cu...</td>\n",
       "    </tr>\n",
       "    <tr>\n",
       "      <th>3</th>\n",
       "      <td>4</td>\n",
       "      <td>New York City</td>\n",
       "      <td>United States</td>\n",
       "      <td>[Bustling, metropolis,, iconic, skyline,, dive...</td>\n",
       "      <td>[Temperate, fourdistinctseasons]</td>\n",
       "      <td>[Shopping, museums, entertainment]</td>\n",
       "      <td>[Citybreak, familyvacation, luxurytravel]</td>\n",
       "      <td>[Shopping, sightseeing, Broadwayshows, museums]</td>\n",
       "      <td>[Bustling, metropolis,, iconic, skyline,, dive...</td>\n",
       "    </tr>\n",
       "    <tr>\n",
       "      <th>4</th>\n",
       "      <td>5</td>\n",
       "      <td>Tokyo</td>\n",
       "      <td>Japan</td>\n",
       "      <td>[Futuristic, city,, rich, traditions,, vibrant...</td>\n",
       "      <td>[Humidsubtropical, hotsummers, mildwinters]</td>\n",
       "      <td>[Technology, culture, food, shopping]</td>\n",
       "      <td>[Citybreak, familyvacation, techenthusiasts]</td>\n",
       "      <td>[Shopping, temples, sushi, sightseeing, entert...</td>\n",
       "      <td>[Futuristic, city,, rich, traditions,, vibrant...</td>\n",
       "    </tr>\n",
       "  </tbody>\n",
       "</table>\n",
       "</div>"
      ],
      "text/plain": [
       "   c_id           city         country  \\\n",
       "0     1          Paris          France   \n",
       "1     2         London  United Kingdom   \n",
       "2     3           Rome           Italy   \n",
       "3     4  New York City   United States   \n",
       "4     5          Tokyo           Japan   \n",
       "\n",
       "                                            overview  \\\n",
       "0  [City, of, Light,, romance,, art,, iconic, lan...   \n",
       "1  [Historic, charm,, royal, heritage,, vibrant, ...   \n",
       "2  [Ancient, history,, stunning, ruins,, rich, cu...   \n",
       "3  [Bustling, metropolis,, iconic, skyline,, dive...   \n",
       "4  [Futuristic, city,, rich, traditions,, vibrant...   \n",
       "\n",
       "                                         climate  \\\n",
       "0          [Temperate, mildwinters, warmsummers]   \n",
       "1  [Temperatemaritime, mildwinters, coolsummers]   \n",
       "2       [Mediterranean, hotsummers, mildwinters]   \n",
       "3               [Temperate, fourdistinctseasons]   \n",
       "4    [Humidsubtropical, hotsummers, mildwinters]   \n",
       "\n",
       "                                 keywords  \\\n",
       "0        [Romance, art, history, fashion]   \n",
       "1     [History, culture, parks, shopping]   \n",
       "2  [History, culture, food, architecture]   \n",
       "3      [Shopping, museums, entertainment]   \n",
       "4   [Technology, culture, food, shopping]   \n",
       "\n",
       "                                      travel_style  \\\n",
       "0   [Romanticgetaway, culturalexploration, luxury]   \n",
       "1        [Citybreak, culturaltrip, familyvacation]   \n",
       "2  [Culturaltrip, romanticgetaway, familyvacation]   \n",
       "3        [Citybreak, familyvacation, luxurytravel]   \n",
       "4     [Citybreak, familyvacation, techenthusiasts]   \n",
       "\n",
       "                                          activities  \\\n",
       "0            [Sightseeing, museums, cafes, shopping]   \n",
       "1   [Museums, parks, shopping, sightseeing, theatre]   \n",
       "2   [Sightseeing, museums, historicruins, foodtours]   \n",
       "3    [Shopping, sightseeing, Broadwayshows, museums]   \n",
       "4  [Shopping, temples, sushi, sightseeing, entert...   \n",
       "\n",
       "                                                tags  \n",
       "0  [City, of, Light,, romance,, art,, iconic, lan...  \n",
       "1  [Historic, charm,, royal, heritage,, vibrant, ...  \n",
       "2  [Ancient, history,, stunning, ruins,, rich, cu...  \n",
       "3  [Bustling, metropolis,, iconic, skyline,, dive...  \n",
       "4  [Futuristic, city,, rich, traditions,, vibrant...  "
      ]
     },
     "execution_count": 11,
     "metadata": {},
     "output_type": "execute_result"
    }
   ],
   "source": [
    "df['tags'] = df['overview'] + df['climate'] + df['keywords'] + df['travel_style'] + df['activities']\n",
    "df.head()"
   ]
  },
  {
   "cell_type": "code",
   "execution_count": 12,
   "id": "e4e6b414",
   "metadata": {},
   "outputs": [
    {
     "data": {
      "text/plain": [
       "['City',\n",
       " 'of',\n",
       " 'Light,',\n",
       " 'romance,',\n",
       " 'art,',\n",
       " 'iconic',\n",
       " 'landmarks.',\n",
       " 'Temperate',\n",
       " 'mildwinters',\n",
       " 'warmsummers',\n",
       " 'Romance',\n",
       " 'art',\n",
       " 'history',\n",
       " 'fashion',\n",
       " 'Romanticgetaway',\n",
       " 'culturalexploration',\n",
       " 'luxury',\n",
       " 'Sightseeing',\n",
       " 'museums',\n",
       " 'cafes',\n",
       " 'shopping']"
      ]
     },
     "execution_count": 12,
     "metadata": {},
     "output_type": "execute_result"
    }
   ],
   "source": [
    "df.iloc[0]['tags']"
   ]
  },
  {
   "cell_type": "code",
   "execution_count": 13,
   "id": "b5cb551e",
   "metadata": {},
   "outputs": [
    {
     "data": {
      "text/html": [
       "<div>\n",
       "<style scoped>\n",
       "    .dataframe tbody tr th:only-of-type {\n",
       "        vertical-align: middle;\n",
       "    }\n",
       "\n",
       "    .dataframe tbody tr th {\n",
       "        vertical-align: top;\n",
       "    }\n",
       "\n",
       "    .dataframe thead th {\n",
       "        text-align: right;\n",
       "    }\n",
       "</style>\n",
       "<table border=\"1\" class=\"dataframe\">\n",
       "  <thead>\n",
       "    <tr style=\"text-align: right;\">\n",
       "      <th></th>\n",
       "      <th>c_id</th>\n",
       "      <th>city</th>\n",
       "      <th>tags</th>\n",
       "    </tr>\n",
       "  </thead>\n",
       "  <tbody>\n",
       "    <tr>\n",
       "      <th>0</th>\n",
       "      <td>1</td>\n",
       "      <td>Paris</td>\n",
       "      <td>[City, of, Light,, romance,, art,, iconic, lan...</td>\n",
       "    </tr>\n",
       "    <tr>\n",
       "      <th>1</th>\n",
       "      <td>2</td>\n",
       "      <td>London</td>\n",
       "      <td>[Historic, charm,, royal, heritage,, vibrant, ...</td>\n",
       "    </tr>\n",
       "    <tr>\n",
       "      <th>2</th>\n",
       "      <td>3</td>\n",
       "      <td>Rome</td>\n",
       "      <td>[Ancient, history,, stunning, ruins,, rich, cu...</td>\n",
       "    </tr>\n",
       "    <tr>\n",
       "      <th>3</th>\n",
       "      <td>4</td>\n",
       "      <td>New York City</td>\n",
       "      <td>[Bustling, metropolis,, iconic, skyline,, dive...</td>\n",
       "    </tr>\n",
       "    <tr>\n",
       "      <th>4</th>\n",
       "      <td>5</td>\n",
       "      <td>Tokyo</td>\n",
       "      <td>[Futuristic, city,, rich, traditions,, vibrant...</td>\n",
       "    </tr>\n",
       "  </tbody>\n",
       "</table>\n",
       "</div>"
      ],
      "text/plain": [
       "   c_id           city                                               tags\n",
       "0     1          Paris  [City, of, Light,, romance,, art,, iconic, lan...\n",
       "1     2         London  [Historic, charm,, royal, heritage,, vibrant, ...\n",
       "2     3           Rome  [Ancient, history,, stunning, ruins,, rich, cu...\n",
       "3     4  New York City  [Bustling, metropolis,, iconic, skyline,, dive...\n",
       "4     5          Tokyo  [Futuristic, city,, rich, traditions,, vibrant..."
      ]
     },
     "execution_count": 13,
     "metadata": {},
     "output_type": "execute_result"
    }
   ],
   "source": [
    "new_df = df[['c_id','city','tags']]\n",
    "new_df.head()"
   ]
  },
  {
   "cell_type": "code",
   "execution_count": 14,
   "id": "35a4e0d2-5457-4c32-afbb-d34925a59ae8",
   "metadata": {},
   "outputs": [
    {
     "name": "stderr",
     "output_type": "stream",
     "text": [
      "C:\\Users\\Sania\\AppData\\Local\\Temp\\ipykernel_16876\\1912678360.py:2: SettingWithCopyWarning: \n",
      "A value is trying to be set on a copy of a slice from a DataFrame.\n",
      "Try using .loc[row_indexer,col_indexer] = value instead\n",
      "\n",
      "See the caveats in the documentation: https://pandas.pydata.org/pandas-docs/stable/user_guide/indexing.html#returning-a-view-versus-a-copy\n",
      "  new_df['tags'] = new_df['tags'].apply(lambda x: x if isinstance(x, list) else [])\n"
     ]
    }
   ],
   "source": [
    "# Ensure all entries in 'tags' are lists\n",
    "new_df['tags'] = new_df['tags'].apply(lambda x: x if isinstance(x, list) else [])"
   ]
  },
  {
   "cell_type": "code",
   "execution_count": 15,
   "id": "722148eb",
   "metadata": {},
   "outputs": [
    {
     "name": "stderr",
     "output_type": "stream",
     "text": [
      "C:\\Users\\Sania\\AppData\\Local\\Temp\\ipykernel_16876\\1955922539.py:1: SettingWithCopyWarning: \n",
      "A value is trying to be set on a copy of a slice from a DataFrame.\n",
      "Try using .loc[row_indexer,col_indexer] = value instead\n",
      "\n",
      "See the caveats in the documentation: https://pandas.pydata.org/pandas-docs/stable/user_guide/indexing.html#returning-a-view-versus-a-copy\n",
      "  new_df['tags'] = new_df['tags'].apply(lambda x: \" \".join(x))\n"
     ]
    },
    {
     "data": {
      "text/html": [
       "<div>\n",
       "<style scoped>\n",
       "    .dataframe tbody tr th:only-of-type {\n",
       "        vertical-align: middle;\n",
       "    }\n",
       "\n",
       "    .dataframe tbody tr th {\n",
       "        vertical-align: top;\n",
       "    }\n",
       "\n",
       "    .dataframe thead th {\n",
       "        text-align: right;\n",
       "    }\n",
       "</style>\n",
       "<table border=\"1\" class=\"dataframe\">\n",
       "  <thead>\n",
       "    <tr style=\"text-align: right;\">\n",
       "      <th></th>\n",
       "      <th>c_id</th>\n",
       "      <th>city</th>\n",
       "      <th>tags</th>\n",
       "    </tr>\n",
       "  </thead>\n",
       "  <tbody>\n",
       "    <tr>\n",
       "      <th>0</th>\n",
       "      <td>1</td>\n",
       "      <td>Paris</td>\n",
       "      <td>City of Light, romance, art, iconic landmarks....</td>\n",
       "    </tr>\n",
       "    <tr>\n",
       "      <th>1</th>\n",
       "      <td>2</td>\n",
       "      <td>London</td>\n",
       "      <td>Historic charm, royal heritage, vibrant cultur...</td>\n",
       "    </tr>\n",
       "    <tr>\n",
       "      <th>2</th>\n",
       "      <td>3</td>\n",
       "      <td>Rome</td>\n",
       "      <td>Ancient history, stunning ruins, rich culture....</td>\n",
       "    </tr>\n",
       "    <tr>\n",
       "      <th>3</th>\n",
       "      <td>4</td>\n",
       "      <td>New York City</td>\n",
       "      <td>Bustling metropolis, iconic skyline, diverse c...</td>\n",
       "    </tr>\n",
       "    <tr>\n",
       "      <th>4</th>\n",
       "      <td>5</td>\n",
       "      <td>Tokyo</td>\n",
       "      <td>Futuristic city, rich traditions, vibrant ener...</td>\n",
       "    </tr>\n",
       "  </tbody>\n",
       "</table>\n",
       "</div>"
      ],
      "text/plain": [
       "   c_id           city                                               tags\n",
       "0     1          Paris  City of Light, romance, art, iconic landmarks....\n",
       "1     2         London  Historic charm, royal heritage, vibrant cultur...\n",
       "2     3           Rome  Ancient history, stunning ruins, rich culture....\n",
       "3     4  New York City  Bustling metropolis, iconic skyline, diverse c...\n",
       "4     5          Tokyo  Futuristic city, rich traditions, vibrant ener..."
      ]
     },
     "execution_count": 15,
     "metadata": {},
     "output_type": "execute_result"
    }
   ],
   "source": [
    "new_df['tags'] = new_df['tags'].apply(lambda x: \" \".join(x))\n",
    "new_df.head()"
   ]
  },
  {
   "cell_type": "code",
   "execution_count": 16,
   "id": "58e497d6",
   "metadata": {},
   "outputs": [
    {
     "data": {
      "text/plain": [
       "'City of Light, romance, art, iconic landmarks. Temperate mildwinters warmsummers Romance art history fashion Romanticgetaway culturalexploration luxury Sightseeing museums cafes shopping'"
      ]
     },
     "execution_count": 16,
     "metadata": {},
     "output_type": "execute_result"
    }
   ],
   "source": [
    "new_df.iloc[0]['tags']"
   ]
  },
  {
   "cell_type": "code",
   "execution_count": 17,
   "id": "07152357",
   "metadata": {},
   "outputs": [
    {
     "name": "stderr",
     "output_type": "stream",
     "text": [
      "C:\\Users\\Sania\\AppData\\Local\\Temp\\ipykernel_16876\\842480936.py:1: SettingWithCopyWarning: \n",
      "A value is trying to be set on a copy of a slice from a DataFrame.\n",
      "Try using .loc[row_indexer,col_indexer] = value instead\n",
      "\n",
      "See the caveats in the documentation: https://pandas.pydata.org/pandas-docs/stable/user_guide/indexing.html#returning-a-view-versus-a-copy\n",
      "  new_df['tags'] = new_df['tags'].apply(lambda x:x.lower())\n"
     ]
    },
    {
     "data": {
      "text/html": [
       "<div>\n",
       "<style scoped>\n",
       "    .dataframe tbody tr th:only-of-type {\n",
       "        vertical-align: middle;\n",
       "    }\n",
       "\n",
       "    .dataframe tbody tr th {\n",
       "        vertical-align: top;\n",
       "    }\n",
       "\n",
       "    .dataframe thead th {\n",
       "        text-align: right;\n",
       "    }\n",
       "</style>\n",
       "<table border=\"1\" class=\"dataframe\">\n",
       "  <thead>\n",
       "    <tr style=\"text-align: right;\">\n",
       "      <th></th>\n",
       "      <th>c_id</th>\n",
       "      <th>city</th>\n",
       "      <th>tags</th>\n",
       "    </tr>\n",
       "  </thead>\n",
       "  <tbody>\n",
       "    <tr>\n",
       "      <th>0</th>\n",
       "      <td>1</td>\n",
       "      <td>Paris</td>\n",
       "      <td>city of light, romance, art, iconic landmarks....</td>\n",
       "    </tr>\n",
       "    <tr>\n",
       "      <th>1</th>\n",
       "      <td>2</td>\n",
       "      <td>London</td>\n",
       "      <td>historic charm, royal heritage, vibrant cultur...</td>\n",
       "    </tr>\n",
       "    <tr>\n",
       "      <th>2</th>\n",
       "      <td>3</td>\n",
       "      <td>Rome</td>\n",
       "      <td>ancient history, stunning ruins, rich culture....</td>\n",
       "    </tr>\n",
       "    <tr>\n",
       "      <th>3</th>\n",
       "      <td>4</td>\n",
       "      <td>New York City</td>\n",
       "      <td>bustling metropolis, iconic skyline, diverse c...</td>\n",
       "    </tr>\n",
       "    <tr>\n",
       "      <th>4</th>\n",
       "      <td>5</td>\n",
       "      <td>Tokyo</td>\n",
       "      <td>futuristic city, rich traditions, vibrant ener...</td>\n",
       "    </tr>\n",
       "  </tbody>\n",
       "</table>\n",
       "</div>"
      ],
      "text/plain": [
       "   c_id           city                                               tags\n",
       "0     1          Paris  city of light, romance, art, iconic landmarks....\n",
       "1     2         London  historic charm, royal heritage, vibrant cultur...\n",
       "2     3           Rome  ancient history, stunning ruins, rich culture....\n",
       "3     4  New York City  bustling metropolis, iconic skyline, diverse c...\n",
       "4     5          Tokyo  futuristic city, rich traditions, vibrant ener..."
      ]
     },
     "execution_count": 17,
     "metadata": {},
     "output_type": "execute_result"
    }
   ],
   "source": [
    "new_df['tags'] = new_df['tags'].apply(lambda x:x.lower())\n",
    "new_df.head()"
   ]
  },
  {
   "cell_type": "code",
   "execution_count": 18,
   "id": "580da8ca",
   "metadata": {},
   "outputs": [
    {
     "data": {
      "text/plain": [
       "'city of light, romance, art, iconic landmarks. temperate mildwinters warmsummers romance art history fashion romanticgetaway culturalexploration luxury sightseeing museums cafes shopping'"
      ]
     },
     "execution_count": 18,
     "metadata": {},
     "output_type": "execute_result"
    }
   ],
   "source": [
    "new_df.iloc[0]['tags']"
   ]
  },
  {
   "cell_type": "code",
   "execution_count": 19,
   "id": "d711edf8",
   "metadata": {},
   "outputs": [
    {
     "data": {
      "text/plain": [
       "(303, 3)"
      ]
     },
     "execution_count": 19,
     "metadata": {},
     "output_type": "execute_result"
    }
   ],
   "source": [
    "new_df.shape"
   ]
  },
  {
   "cell_type": "code",
   "execution_count": 20,
   "id": "e881a8be",
   "metadata": {},
   "outputs": [],
   "source": [
    "#stemming\n",
    "import nltk\n",
    "from nltk.stem import PorterStemmer"
   ]
  },
  {
   "cell_type": "code",
   "execution_count": 21,
   "id": "f056b039",
   "metadata": {},
   "outputs": [],
   "source": [
    "ps = PorterStemmer()"
   ]
  },
  {
   "cell_type": "code",
   "execution_count": 22,
   "id": "37bb4c04",
   "metadata": {},
   "outputs": [],
   "source": [
    "def stems(text):\n",
    "    l = []\n",
    "    for i in text.split():\n",
    "        l.append(ps.stem(i))\n",
    "    return \" \".join(l)"
   ]
  },
  {
   "cell_type": "code",
   "execution_count": 23,
   "id": "1724caa4",
   "metadata": {},
   "outputs": [
    {
     "name": "stderr",
     "output_type": "stream",
     "text": [
      "C:\\Users\\Sania\\AppData\\Local\\Temp\\ipykernel_16876\\3973021881.py:1: SettingWithCopyWarning: \n",
      "A value is trying to be set on a copy of a slice from a DataFrame.\n",
      "Try using .loc[row_indexer,col_indexer] = value instead\n",
      "\n",
      "See the caveats in the documentation: https://pandas.pydata.org/pandas-docs/stable/user_guide/indexing.html#returning-a-view-versus-a-copy\n",
      "  new_df['tags'] = new_df['tags'].apply(stems)\n"
     ]
    }
   ],
   "source": [
    "new_df['tags'] = new_df['tags'].apply(stems)"
   ]
  },
  {
   "cell_type": "code",
   "execution_count": 24,
   "id": "94421a13",
   "metadata": {},
   "outputs": [
    {
     "data": {
      "text/plain": [
       "'citi of light, romance, art, icon landmarks. temper mildwint warmsumm romanc art histori fashion romanticgetaway culturalexplor luxuri sightse museum cafe shop'"
      ]
     },
     "execution_count": 24,
     "metadata": {},
     "output_type": "execute_result"
    }
   ],
   "source": [
    "new_df.iloc[0]['tags']"
   ]
  },
  {
   "cell_type": "code",
   "execution_count": 25,
   "id": "137b85d0",
   "metadata": {},
   "outputs": [],
   "source": [
    "from sklearn.feature_extraction.text import CountVectorizer\n",
    "cv = CountVectorizer(max_features = 5000, stop_words = 'english')"
   ]
  },
  {
   "cell_type": "code",
   "execution_count": 26,
   "id": "4d16cb41",
   "metadata": {},
   "outputs": [],
   "source": [
    "vector = cv.fit_transform(new_df['tags']).toarray()"
   ]
  },
  {
   "cell_type": "code",
   "execution_count": 27,
   "id": "c8f8a27a",
   "metadata": {},
   "outputs": [
    {
     "data": {
      "text/plain": [
       "array([[0, 0, 0, ..., 0, 0, 0],\n",
       "       [0, 0, 0, ..., 0, 0, 0],\n",
       "       [0, 0, 0, ..., 0, 0, 0],\n",
       "       ...,\n",
       "       [0, 0, 0, ..., 0, 0, 0],\n",
       "       [0, 0, 0, ..., 0, 0, 0],\n",
       "       [0, 0, 0, ..., 0, 0, 0]], dtype=int64)"
      ]
     },
     "execution_count": 27,
     "metadata": {},
     "output_type": "execute_result"
    }
   ],
   "source": [
    "vector"
   ]
  },
  {
   "cell_type": "code",
   "execution_count": 28,
   "id": "999227bb",
   "metadata": {},
   "outputs": [
    {
     "data": {
      "text/plain": [
       "(303, 1061)"
      ]
     },
     "execution_count": 28,
     "metadata": {},
     "output_type": "execute_result"
    }
   ],
   "source": [
    "vector.shape"
   ]
  },
  {
   "cell_type": "code",
   "execution_count": 29,
   "id": "dd97277d",
   "metadata": {},
   "outputs": [],
   "source": [
    "from sklearn.metrics.pairwise import cosine_similarity"
   ]
  },
  {
   "cell_type": "code",
   "execution_count": 30,
   "id": "155aaa59",
   "metadata": {},
   "outputs": [],
   "source": [
    "similary = cosine_similarity(vector)"
   ]
  },
  {
   "cell_type": "code",
   "execution_count": 31,
   "id": "79baec15",
   "metadata": {},
   "outputs": [
    {
     "data": {
      "text/plain": [
       "array([[1.        , 0.25584086, 0.23836565, ..., 0.13336627, 0.18609684,\n",
       "        0.04652421],\n",
       "       [0.25584086, 1.        , 0.35777088, ..., 0.20851441, 0.21821789,\n",
       "        0.17457431],\n",
       "       [0.23836565, 0.35777088, 1.        , ..., 0.13987572, 0.39036003,\n",
       "        0.09759001],\n",
       "       ...,\n",
       "       [0.13336627, 0.20851441, 0.13987572, ..., 1.        , 0.31851103,\n",
       "        0.27300945],\n",
       "       [0.18609684, 0.21821789, 0.39036003, ..., 0.31851103, 1.        ,\n",
       "        0.28571429],\n",
       "       [0.04652421, 0.17457431, 0.09759001, ..., 0.27300945, 0.28571429,\n",
       "        1.        ]])"
      ]
     },
     "execution_count": 31,
     "metadata": {},
     "output_type": "execute_result"
    }
   ],
   "source": [
    "similary"
   ]
  },
  {
   "cell_type": "code",
   "execution_count": 32,
   "id": "c320e5e2",
   "metadata": {},
   "outputs": [
    {
     "data": {
      "text/plain": [
       "(303, 303)"
      ]
     },
     "execution_count": 32,
     "metadata": {},
     "output_type": "execute_result"
    }
   ],
   "source": [
    "similary.shape"
   ]
  },
  {
   "cell_type": "code",
   "execution_count": 33,
   "id": "ad8f05f9",
   "metadata": {},
   "outputs": [
    {
     "data": {
      "text/plain": [
       "49"
      ]
     },
     "execution_count": 33,
     "metadata": {},
     "output_type": "execute_result"
    }
   ],
   "source": [
    "new_df[new_df['city'] == 'Hyderabad'].index[0]"
   ]
  },
  {
   "cell_type": "code",
   "execution_count": 34,
   "id": "48e9f9dc",
   "metadata": {},
   "outputs": [],
   "source": [
    "def recommend(place):\n",
    "    index= new_df[new_df['city']== place].index[0]\n",
    "    distances=sorted(list(enumerate(similary[index])),reverse=True, key= lambda x:x[1])\n",
    "    for i in distances[1:6]:\n",
    "        print(new_df.iloc[i[0]].city)"
   ]
  },
  {
   "cell_type": "code",
   "execution_count": 35,
   "id": "6a9fff21",
   "metadata": {
    "scrolled": true
   },
   "outputs": [
    {
     "name": "stdout",
     "output_type": "stream",
     "text": [
      "Mexico City\n",
      "Istanbul\n",
      "Mumbai\n",
      "Tokyo\n",
      "Jakarta\n"
     ]
    }
   ],
   "source": [
    "recommend('Hyderabad')"
   ]
  },
  {
   "cell_type": "code",
   "execution_count": 36,
   "id": "54fc37f1-d4b0-4770-ab64-9797918af133",
   "metadata": {},
   "outputs": [],
   "source": [
    "# Measure computation time for the recommendation\n",
    "def measure_recommendation_time(place):\n",
    "    start_time = time.time()  # Start time\n",
    "    recommendations = recommend(place)  # Call the recommendation function\n",
    "    end_time = time.time()  # End time\n",
    "    elapsed_time = end_time - start_time  # Calculate elapsed time\n",
    "    print(f\"Query processing time: {elapsed_time:.4f} seconds\")"
   ]
  },
  {
   "cell_type": "code",
   "execution_count": 37,
   "id": "a412eb6f-6287-4ce7-863b-1bc336c09beb",
   "metadata": {},
   "outputs": [
    {
     "name": "stdout",
     "output_type": "stream",
     "text": [
      "Mexico City\n",
      "Istanbul\n",
      "Mumbai\n",
      "Tokyo\n",
      "Jakarta\n",
      "Query processing time: 0.0012 seconds\n"
     ]
    }
   ],
   "source": [
    "# Example usage\n",
    "measure_recommendation_time('Hyderabad')"
   ]
  },
  {
   "cell_type": "code",
   "execution_count": 38,
   "id": "09101e71",
   "metadata": {},
   "outputs": [],
   "source": [
    "import pickle\n",
    "\n",
    "pickle.dump(new_df, open('artifacts/place_list.pkl', 'wb'))\n",
    "pickle.dump(similary, open('artifacts/similarity.pkl', 'wb'))"
   ]
  }
 ],
 "metadata": {
  "kernelspec": {
   "display_name": "Python 3 (ipykernel)",
   "language": "python",
   "name": "python3"
  },
  "language_info": {
   "codemirror_mode": {
    "name": "ipython",
    "version": 3
   },
   "file_extension": ".py",
   "mimetype": "text/x-python",
   "name": "python",
   "nbconvert_exporter": "python",
   "pygments_lexer": "ipython3",
   "version": "3.12.3"
  }
 },
 "nbformat": 4,
 "nbformat_minor": 5
}
